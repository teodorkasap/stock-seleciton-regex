{
 "cells": [
  {
   "cell_type": "code",
   "execution_count": 1,
   "metadata": {},
   "outputs": [],
   "source": [
    "import pandas as pd\n",
    "import numpy as np\n",
    "import fnmatch\n",
    "import os\n",
    "import re"
   ]
  },
  {
   "cell_type": "code",
   "execution_count": 2,
   "metadata": {},
   "outputs": [],
   "source": [
    "columns = [\"stockCode\",\"stockAmount\"]"
   ]
  },
  {
   "cell_type": "code",
   "execution_count": 44,
   "metadata": {},
   "outputs": [
    {
     "name": "stdout",
     "output_type": "stream",
     "text": [
      "['.gitignore', 'selection-by-regex.ipynb', 'README.md', '.ipynb_checkpoints', '.git', 'logo-stok.xlsx', 'duzeltme-tablosu-19-09-2019.xls']\n",
      "file name is not recognized, this file is not being processed\n",
      "file name is not recognized, this file is not being processed\n",
      "file name is not recognized, this file is not being processed\n",
      "file name is not recognized, this file is not being processed\n",
      "file name is not recognized, this file is not being processed\n"
     ]
    }
   ],
   "source": [
    "cwd = os.getcwd()\n",
    "\n",
    "print(os.listdir(cwd))\n",
    "# loop over files array\n",
    "for file in os.listdir(cwd):\n",
    "    # get the files and parse them as tables to be used later on\n",
    "    if fnmatch.fnmatch(file, '*logo-stok*.xls*'):\n",
    "        table1 = pd.read_excel(file, header=None)\n",
    "    elif fnmatch.fnmatch(file, '*on-duzeltme-tablosu*.xls*'):\n",
    "        table2 = pd.read_excel(file)\n",
    "    else:\n",
    "        print('file name is not recognized, this file is not being processed')\n",
    "        \n",
    "        \n",
    "        \n",
    "# Drop duplicates from table1\n",
    "table1=table1.drop_duplicates()\n",
    "# Take necessary columns from table1\n",
    "table1 = table1.iloc[2:,[1,2,7]]\n",
    "# Filter table1 according to regex, matching On-running products stock codes\n",
    "table1 = table1[table1[1].str.contains(r\"\\(\\d*[.,]?\\d*\\)$\",na=False)]\n",
    "table1 = table1[table1[2].str.contains(\"CLOUD|CLOD\",na=False)]\n",
    "table1 = table1.iloc[:,[0,2]]\n",
    "table1.columns = columns\n",
    "table1[\"stockCode\"] = table1[\"stockCode\"].str.replace(\",\",\".\")\n",
    "table1[\"stockAmount\"] = pd.to_numeric(table1[\"stockAmount\"],errors='coerce')\n",
    "\n",
    "# consolidate (concatenate) tables using pd concat command\n",
    "table_consolidated = pd.concat([table1, table2])\n",
    "\n",
    "# make pivot table, sum matchingly named row values\n",
    "table_output = pd.pivot_table(table_consolidated, values='stockAmount', index=[\n",
    "                              'stockCode'], aggfunc=np.sum)\n",
    "# check the result\n",
    "table_output\n",
    "   \n",
    "\n",
    "# output to excel file\n",
    "table_output.to_excel(\"products.xls\")\n",
    "# stockFilePath = str(folder)+'/'+\"products.xls\"\n",
    "# return stockFilePath\n",
    "    \n",
    "    \n",
    "# table2         \n",
    "\n",
    "\n",
    "#  regexp = re.compile(r'(\\(\\d+(?:\\,\\d+)?)\\))')\n",
    "#     table2 = table2[re.match(regexp,table2[1].str,flags=0)]  \n",
    "                             \n",
    "#     table2 = table2[table2[2].str.contains(\"YONEX\",na=False)]\n",
    "#     # Take only columns for item code and stock amount info from table2\n",
    "#     table2 = table2.iloc[:,[0,2]]\n",
    "#     # insert column headers\n",
    "#     table1.columns = columns\n",
    "#     table2.columns = columns\n",
    "\n",
    "#     # make pivot table, sum matchingly named row values\n",
    "#     table_output = pd.pivot_table(table_consolidated, values='stockAmount', index=[\n",
    "#                                   'stockCode'], aggfunc=np.sum)\n",
    "#     # check the result\n",
    "#     print(table_output)\n",
    "#     # output to excel file\n",
    "#     table_output.to_excel(folder+'/'+\"products.xls\")\n",
    "#     stockFilePath = str(folder)+'/'+\"products.xls\"\n",
    "#     return stockFilePath"
   ]
  },
  {
   "cell_type": "code",
   "execution_count": null,
   "metadata": {},
   "outputs": [],
   "source": []
  }
 ],
 "metadata": {
  "kernelspec": {
   "display_name": "Python 3",
   "language": "python",
   "name": "python3"
  },
  "language_info": {
   "codemirror_mode": {
    "name": "ipython",
    "version": 3
   },
   "file_extension": ".py",
   "mimetype": "text/x-python",
   "name": "python",
   "nbconvert_exporter": "python",
   "pygments_lexer": "ipython3",
   "version": "3.7.1"
  }
 },
 "nbformat": 4,
 "nbformat_minor": 2
}
